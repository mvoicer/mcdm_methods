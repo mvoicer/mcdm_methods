{
  "nbformat": 4,
  "nbformat_minor": 0,
  "metadata": {
    "colab": {
      "provenance": [],
      "toc_visible": true
    },
    "kernelspec": {
      "name": "python3",
      "display_name": "Python 3"
    }
  },
  "cells": [
    {
      "cell_type": "markdown",
      "metadata": {
        "id": "-2z_Ee0M9NN6"
      },
      "source": [
        "# Multi-Criteria Decision Making For COVID-19 Public Policy Classification\n",
        "\n",
        "Implementation used in the article: Tomada de Decisão Multicritério para Classificação de Políticas de Enfrentamento à Covid-19 (Available at: https://www.researchgate.net/publication/345436989_Tomada_de_Decisao_Multicriterio_para_Classificacao_de_Politicas_de_Enfrentamento_a_Covid-19)\n",
        "\n",
        "Marcos A. Alves <span itemscope itemtype=\"https://schema.org/Person\"><a itemprop=\"sameAs\" content=\"https://orcid.org/0000-0001-6934-6745\" href=\"https://orcid.org/0000-0001-6934-6745\" target=\"orcid.widget\" rel=\"noopener noreferrer\" style=\"vertical-align:top;\"><img src=\"https://orcid.org/sites/default/files/images/orcid_16x16.png\" style=\"width:1em;margin-right:.5em;\" alt=\"ORCID iD icon\"></a></span>\n",
        "\n",
        "\n",
        "<center>\n",
        "<table><tr>\n",
        "<td><a href=\"http://www.minds.eng.ufmg.br/\"><img src=\"https://github.com/petroniocandido/pyFTS/raw/master/img/minds_logo_medium.jpeg\" alt=\"MINDS - Machine Intelligence and Data Science Lab\" width=\"100\"/></a></td>\n",
        "</tr>\n",
        "</table>\n",
        "</center>\n"
      ]
    },
    {
      "cell_type": "markdown",
      "metadata": {
        "id": "lH0zVTt89Tcb"
      },
      "source": [
        "# Libraries"
      ]
    },
    {
      "cell_type": "code",
      "metadata": {
        "id": "W0JQbBw0TKgJ"
      },
      "source": [
        "import warnings\n",
        "warnings.simplefilter('ignore')\n",
        "\n",
        "import numpy as np\n",
        "import pandas as pd\n",
        "import matplotlib.pyplot as plt\n",
        "import seaborn as sns"
      ],
      "execution_count": 1,
      "outputs": []
    },
    {
      "cell_type": "markdown",
      "metadata": {
        "id": "_SYXnwma9Xvd"
      },
      "source": [
        "## Dataset"
      ]
    },
    {
      "cell_type": "code",
      "metadata": {
        "id": "9thUjlJD1sQU"
      },
      "source": [
        "# #Import csv proveniente do COVID-ABS\n",
        "pop  = pd.read_csv('MatrizDecisao.csv', delimiter = \",\", header=None)\n",
        "pop = pop.to_numpy()"
      ],
      "execution_count": null,
      "outputs": []
    },
    {
      "cell_type": "code",
      "metadata": {
        "id": "Oweoi2UnZ0V-",
        "colab": {
          "base_uri": "https://localhost:8080/",
          "height": 35
        },
        "outputId": "690d3a25-a186-4483-a5b2-46489ebe58df"
      },
      "source": [
        "pop.shape"
      ],
      "execution_count": null,
      "outputs": [
        {
          "output_type": "execute_result",
          "data": {
            "text/plain": [
              "(11, 7)"
            ]
          },
          "metadata": {
            "tags": []
          },
          "execution_count": 3
        }
      ]
    },
    {
      "cell_type": "code",
      "metadata": {
        "id": "Vd4rof2NNGTc",
        "colab": {
          "base_uri": "https://localhost:8080/",
          "height": 410
        },
        "outputId": "1c26bab0-a7f6-497a-b949-fbf72391c121"
      },
      "source": [
        "pop = pop[:,0:6]\n",
        "pop"
      ],
      "execution_count": null,
      "outputs": [
        {
          "output_type": "execute_result",
          "data": {
            "text/plain": [
              "array([[ 9.16271819e-01,  1.10956118e-01,  8.98181125e-02,\n",
              "         5.89615203e-04, -1.41817492e-01,  1.65192871e-01],\n",
              "       [ 8.85428571e-01,  1.09428571e-01,  8.49523810e-02,\n",
              "         5.71428571e-04, -1.96017419e-01,  1.40170152e-01],\n",
              "       [ 8.53142857e-01,  1.06285714e-01,  7.98095238e-02,\n",
              "         8.57142857e-04, -2.04682970e-01,  1.40187366e-01],\n",
              "       [ 8.25904762e-01,  1.02666667e-01,  7.50476190e-02,\n",
              "         8.57142857e-04, -1.75191232e-01,  1.04487592e-01],\n",
              "       [ 7.80190476e-01,  1.05142857e-01,  7.70476190e-02,\n",
              "         6.66666667e-04, -1.63578276e-01,  8.27018822e-02],\n",
              "       [ 7.36666667e-01,  9.32380952e-02,  6.68571429e-02,\n",
              "         6.66666667e-04, -1.53132151e-01,  6.63988408e-02],\n",
              "       [ 5.51047619e-01,  7.28571429e-02,  4.91428571e-02,\n",
              "         1.61904762e-03, -1.22949452e-01,  3.13840462e-02],\n",
              "       [ 4.26857143e-01,  6.17142857e-02,  3.84761905e-02,\n",
              "         1.42857143e-03, -9.39206286e-02, -4.88448464e-03],\n",
              "       [ 2.01047619e-01,  3.31428571e-02,  1.58095238e-02,\n",
              "         1.42857143e-03, -8.00965452e-02, -2.41244707e-02],\n",
              "       [ 6.63809524e-02,  1.09523810e-02,  5.23809524e-03,\n",
              "         1.14285714e-03, -5.78775542e-02, -5.29354145e-02],\n",
              "       [ 4.56291827e-02,  9.95238080e-03,  8.44909729e-03,\n",
              "         1.09876153e-03, -5.91820102e-02, -7.56271243e-02]])"
            ]
          },
          "metadata": {
            "tags": []
          },
          "execution_count": 4
        }
      ]
    },
    {
      "cell_type": "code",
      "metadata": {
        "id": "AeYybUVT8sq8",
        "colab": {
          "base_uri": "https://localhost:8080/",
          "height": 339
        },
        "outputId": "40da3127-7bfd-47ad-9417-3ec40f2768c7"
      },
      "source": [
        "# Gera a tabela para o Latex\n",
        "df = pd.DataFrame(pop)\n",
        "print(df.to_latex(index=False))"
      ],
      "execution_count": null,
      "outputs": [
        {
          "output_type": "stream",
          "text": [
            "\\begin{tabular}{rrrrrr}\n",
            "\\toprule\n",
            "        0 &         1 &         2 &         3 &         4 &         5 \\\\\n",
            "\\midrule\n",
            " 0.916272 &  0.110956 &  0.089818 &  0.000590 & -0.141817 &  0.165193 \\\\\n",
            " 0.885429 &  0.109429 &  0.084952 &  0.000571 & -0.196017 &  0.140170 \\\\\n",
            " 0.853143 &  0.106286 &  0.079810 &  0.000857 & -0.204683 &  0.140187 \\\\\n",
            " 0.825905 &  0.102667 &  0.075048 &  0.000857 & -0.175191 &  0.104488 \\\\\n",
            " 0.780190 &  0.105143 &  0.077048 &  0.000667 & -0.163578 &  0.082702 \\\\\n",
            " 0.736667 &  0.093238 &  0.066857 &  0.000667 & -0.153132 &  0.066399 \\\\\n",
            " 0.551048 &  0.072857 &  0.049143 &  0.001619 & -0.122949 &  0.031384 \\\\\n",
            " 0.426857 &  0.061714 &  0.038476 &  0.001429 & -0.093921 & -0.004884 \\\\\n",
            " 0.201048 &  0.033143 &  0.015810 &  0.001429 & -0.080097 & -0.024124 \\\\\n",
            " 0.066381 &  0.010952 &  0.005238 &  0.001143 & -0.057878 & -0.052935 \\\\\n",
            " 0.045629 &  0.009952 &  0.008449 &  0.001099 & -0.059182 & -0.075627 \\\\\n",
            "\\bottomrule\n",
            "\\end{tabular}\n",
            "\n"
          ],
          "name": "stdout"
        }
      ]
    },
    {
      "cell_type": "markdown",
      "metadata": {
        "id": "OA1Fd9VJ1A2H"
      },
      "source": [
        "# MCDM"
      ]
    },
    {
      "cell_type": "markdown",
      "metadata": {
        "id": "L1GJRPfH1k6H"
      },
      "source": [
        "## Criterios"
      ]
    },
    {
      "cell_type": "code",
      "metadata": {
        "id": "AI3chcdJlS24",
        "colab": {
          "base_uri": "https://localhost:8080/",
          "height": 53
        },
        "outputId": "9daa2806-51a9-4722-e883-49f19725dec9"
      },
      "source": [
        "# C1: Infectados        CUSTO\n",
        "# C2: Mortos            CUSTO\n",
        "# C3: Hospitalizados    CUSTO\n",
        "# C4: Severos           CUSTO\n",
        "# C5: PIB Pessoas       BENEFÍCIO\n",
        "# C6: PIB Empresas      BENEFÍCIO\n",
        "\n",
        "weightsDM1 = [7, 3, 5, 3, 5, 3]     # pesos decisor 1\n",
        "weightsDM2 = [10, 4, 8, 7, 8, 6]    # pesos decisor 2\n",
        "print(\"Soma dos pesos: \", sum(weightsDM1))\n",
        "print(\"Soma dos pesos: \", sum(weightsDM2))\n",
        "cost_benefit = ['min', 'min', 'min', 'min', 'max', 'max']"
      ],
      "execution_count": null,
      "outputs": [
        {
          "output_type": "stream",
          "text": [
            "Soma dos pesos:  26\n",
            "Soma dos pesos:  43\n"
          ],
          "name": "stdout"
        }
      ]
    },
    {
      "cell_type": "markdown",
      "metadata": {
        "id": "DDhO7T30tRjb"
      },
      "source": [
        "### TOPSIS"
      ]
    },
    {
      "cell_type": "code",
      "metadata": {
        "id": "-gOPBcjjEAfl",
        "colab": {
          "base_uri": "https://localhost:8080/",
          "height": 53
        },
        "outputId": "a2ceed47-b8ae-4ab7-acf3-8cfd43072050"
      },
      "source": [
        "# Armazena numero de criterios e alternativas\n",
        "nrows, ncol = pop.shape\n",
        "print(\"Numero alternativas: \", nrows)\n",
        "print(\"Numero de criterios: \", ncol)"
      ],
      "execution_count": null,
      "outputs": [
        {
          "output_type": "stream",
          "text": [
            "Numero alternativas:  11\n",
            "Numero de criterios:  6\n"
          ],
          "name": "stdout"
        }
      ]
    },
    {
      "cell_type": "code",
      "metadata": {
        "id": "THvVjzXsK6I4",
        "colab": {
          "base_uri": "https://localhost:8080/",
          "height": 214
        },
        "outputId": "8da82651-cad0-4030-a6a4-466131fb2595"
      },
      "source": [
        "# 1: Constrói NDM\n",
        "rij = np.zeros(shape=(nrows,ncol))\n",
        "for i in range(nrows):\n",
        "  for j in range(ncol):\n",
        "    rij[i,j] = pop[i,j]/np.sqrt(np.sum((pop[:,j])**2))\n",
        "\n",
        "print(\"rij: \", rij)"
      ],
      "execution_count": null,
      "outputs": [
        {
          "output_type": "stream",
          "text": [
            "rij:  [[ 0.42185317  0.40167337  0.43860013  0.16846973 -0.30336777  0.52536951]\n",
            " [ 0.40765289  0.39614348  0.41483977  0.1632733  -0.41930912  0.44578876]\n",
            " [ 0.39278849  0.38476599  0.38972615  0.24490995 -0.43784597  0.4458435 ]\n",
            " [ 0.38024802  0.37166464  0.3664728   0.24490995 -0.37475895  0.33230608]\n",
            " [ 0.35920108  0.38062873  0.37623921  0.19048552 -0.34991718  0.26302011]\n",
            " [ 0.33916264  0.33753218  0.32647704  0.19048552 -0.32757144  0.2111709 ]\n",
            " [ 0.2537033   0.26375088  0.23997458  0.46260768 -0.26300635  0.09981194]\n",
            " [ 0.19652579  0.22341251  0.18788707  0.40818325 -0.20090957 -0.01553432]\n",
            " [ 0.09256268  0.11998079  0.07720112  0.40818325 -0.1713379  -0.07672402]\n",
            " [ 0.03056191  0.03964883  0.02557869  0.3265466  -0.12380832 -0.16835262]\n",
            " [ 0.02100776  0.03602871  0.04125866  0.31394724 -0.12659873 -0.24051998]]\n"
          ],
          "name": "stdout"
        }
      ]
    },
    {
      "cell_type": "code",
      "metadata": {
        "id": "Sbb5IU6pPMFr",
        "colab": {
          "base_uri": "https://localhost:8080/",
          "height": 108
        },
        "outputId": "f0338dd8-6216-4a3a-ebd4-eaea74e30340"
      },
      "source": [
        "# Normaliza os pesos\n",
        "weights = np.zeros(shape=(ncol))\n",
        "weights_norm1 = [i/np.sum(weightsDM1) for i in weightsDM1]\n",
        "weights_norm2 = [i/np.sum(weightsDM2) for i in weightsDM2]\n",
        "\n",
        "for i in range(ncol):\n",
        "  weights[i] = (weights_norm1[i]+weights_norm2[i])/2\n",
        "\n",
        "print(\"Pesos normalizados DM1: \", weights_norm1)\n",
        "print(\"Pesos normalizados DM2: \", weights_norm2)\n",
        "print(\"Pesos: \", weights)\n",
        "print(\"Soma dos pesos: \", sum(weights))"
      ],
      "execution_count": null,
      "outputs": [
        {
          "output_type": "stream",
          "text": [
            "Pesos normalizados DM1:  [0.2692307692307692, 0.11538461538461539, 0.19230769230769232, 0.11538461538461539, 0.19230769230769232, 0.11538461538461539]\n",
            "Pesos normalizados DM2:  [0.23255813953488372, 0.09302325581395349, 0.18604651162790697, 0.16279069767441862, 0.18604651162790697, 0.13953488372093023]\n",
            "Pesos:  [0.25089445 0.10420394 0.1891771  0.13908766 0.1891771  0.12745975]\n",
            "Soma dos pesos:  1.0\n"
          ],
          "name": "stdout"
        }
      ]
    },
    {
      "cell_type": "code",
      "metadata": {
        "id": "_70Cfmj8K9l2",
        "colab": {
          "base_uri": "https://localhost:8080/",
          "height": 214
        },
        "outputId": "c7a5af81-3dd4-4515-d240-4009338fbd4c"
      },
      "source": [
        "# 2: Constrói WNDM\n",
        "vij = np.zeros(shape=(nrows,ncol))\n",
        "for i in range(nrows):\n",
        "  for j in range(ncol):\n",
        "    vij[i,j] = rij[i,j] * weights[j]\n",
        "print(vij)"
      ],
      "execution_count": null,
      "outputs": [
        {
          "output_type": "stream",
          "text": [
            "[[ 0.10584062  0.04185595  0.0829731   0.02343206 -0.05739024  0.06696347]\n",
            " [ 0.10227785  0.04127971  0.07847819  0.0227093  -0.07932368  0.05682012]\n",
            " [ 0.09854845  0.04009413  0.07372726  0.03406395 -0.08283043  0.0568271 ]\n",
            " [ 0.09540212  0.03872892  0.06932826  0.03406395 -0.07089581  0.04235565]\n",
            " [ 0.09012156  0.03966301  0.07117584  0.02649418 -0.06619632  0.03352448]\n",
            " [ 0.08509403  0.03517218  0.06176198  0.02649418 -0.06196902  0.02691579]\n",
            " [ 0.06365275  0.02748388  0.04539769  0.06434302 -0.04975478  0.012722  ]\n",
            " [ 0.04930723  0.02328046  0.03554393  0.05677325 -0.03800749 -0.00198   ]\n",
            " [ 0.02322346  0.01250247  0.01460468  0.05677325 -0.03241321 -0.00977922]\n",
            " [ 0.00766781  0.00413156  0.0048389   0.0454186  -0.0234217  -0.02145818]\n",
            " [ 0.00527073  0.00375433  0.00780519  0.04366619 -0.02394958 -0.03065662]]\n"
          ],
          "name": "stdout"
        }
      ]
    },
    {
      "cell_type": "code",
      "metadata": {
        "id": "zEKJ1zHCLAyp",
        "colab": {
          "base_uri": "https://localhost:8080/",
          "height": 53
        },
        "outputId": "e41e2fb7-ad26-460a-e66a-337518cb107b"
      },
      "source": [
        "# 3: Determina PIS e NIS\n",
        "PIS = np.zeros(shape=(ncol))\n",
        "NIS = np.zeros(shape=(ncol))\n",
        "for j in range(ncol):\n",
        "  if cost_benefit[j] == 'max':\n",
        "    PIS[j] = max(vij[:,j])\n",
        "    NIS[j] = min(vij[:,j])\n",
        "  elif cost_benefit[j] == 'min':\n",
        "    PIS[j] = min(vij[:,j])\n",
        "    NIS[j] = max(vij[:,j])\n",
        "  else:\n",
        "    print(\"Evaluation of \",j,\"th criteria is missing\")\n",
        "\n",
        "print(\"PIS: \", PIS)\n",
        "print(\"NIS: \", NIS)"
      ],
      "execution_count": null,
      "outputs": [
        {
          "output_type": "stream",
          "text": [
            "PIS:  [ 0.00527073  0.00375433  0.0048389   0.0227093  -0.0234217   0.06696347]\n",
            "NIS:  [ 0.10584062  0.04185595  0.0829731   0.06434302 -0.08283043 -0.03065662]\n"
          ],
          "name": "stdout"
        }
      ]
    },
    {
      "cell_type": "code",
      "metadata": {
        "id": "FjgaI1F5LENs",
        "colab": {
          "base_uri": "https://localhost:8080/",
          "height": 88
        },
        "outputId": "a454f759-3148-417f-facd-f9e3c5e87f5f"
      },
      "source": [
        "# 4: Calcula medida de separação (L^2 norm)\n",
        "SiplusDIF = np.zeros(shape=(nrows,ncol))\n",
        "SiminusDIF = np.zeros(shape=(nrows,ncol))\n",
        "for i in range(nrows):\n",
        "  for j in range(ncol):\n",
        "    SiplusDIF[i,j] = (vij[i,j] - PIS[j])**2\n",
        "    SiminusDIF[i,j] = (vij[i,j] - NIS[j])**2\n",
        "\n",
        "SiplusSUM = np.zeros(nrows)\n",
        "SiminusSUM = np.zeros(nrows)\n",
        "for i in range(nrows):\n",
        "  SiplusSUM[i] = np.sum(SiplusDIF[i,:])\n",
        "  SiminusSUM[i] = np.sum(SiminusDIF[i,:])\n",
        "\n",
        "Siplus = np.sqrt(SiplusSUM)\n",
        "Siminus = np.sqrt(SiminusSUM)\n",
        "\n",
        "print(\"S+\", Siplus)\n",
        "print(\"S-\", Siminus)"
      ],
      "execution_count": null,
      "outputs": [
        {
          "output_type": "stream",
          "text": [
            "S+ [0.13720559 0.13953207 0.13611757 0.12842909 0.12590411 0.1170603\n",
            " 0.10481174 0.09689985 0.08732034 0.09132354 0.09988968]\n",
            "S- [0.10886042 0.09711371 0.09333803 0.0818228  0.07886389 0.07814935\n",
            " 0.07983725 0.093163   0.12408273 0.14538956 0.14529534]\n"
          ],
          "name": "stdout"
        }
      ]
    },
    {
      "cell_type": "code",
      "metadata": {
        "id": "hA7Co2knLII0",
        "colab": {
          "base_uri": "https://localhost:8080/",
          "height": 53
        },
        "outputId": "c17d60f0-9274-49cc-ecc8-b607e2f6643b"
      },
      "source": [
        "# 5: Calcula CCi\n",
        "Cj = np.zeros(shape=(nrows))\n",
        "for i in range(nrows):\n",
        "  Cj[i] = Siminus[i] / (Siplus[i] + Siminus[i])\n",
        "\n",
        "print(\"CCi\", Cj)"
      ],
      "execution_count": null,
      "outputs": [
        {
          "output_type": "stream",
          "text": [
            "CCi [0.44240332 0.41037584 0.40678036 0.38916558 0.38513777 0.40033547\n",
            " 0.43237308 0.49016943 0.58694858 0.61420159 0.59259468]\n"
          ],
          "name": "stdout"
        }
      ]
    },
    {
      "cell_type": "code",
      "metadata": {
        "id": "IfPyb-9CLJ0A",
        "colab": {
          "base_uri": "https://localhost:8080/",
          "height": 231
        },
        "outputId": "b9447e43-cf8d-47f8-87a0-1c24a9b82197"
      },
      "source": [
        "# 6: Ranking das alternativas pelo Cj+\n",
        "temp = (-Cj).argsort()\n",
        "ranks = np.empty_like(temp)\n",
        "ranks[temp] = np.arange(len(Cj))\n",
        "\n",
        "ranking = np.zeros((len(Cj),3))\n",
        "for i in range(len(ranks)):\n",
        "  ranking[i,0] = i+1\n",
        "  ranking[i,1] = np.abs(ranks[i])+1\n",
        "  ranking[i,2] = Cj[i]\n",
        "\n",
        "print(\"Ranking: \\n\", ranking)"
      ],
      "execution_count": null,
      "outputs": [
        {
          "output_type": "stream",
          "text": [
            "Ranking: \n",
            " [[ 1.          5.          0.44240332]\n",
            " [ 2.          7.          0.41037584]\n",
            " [ 3.          8.          0.40678036]\n",
            " [ 4.         10.          0.38916558]\n",
            " [ 5.         11.          0.38513777]\n",
            " [ 6.          9.          0.40033547]\n",
            " [ 7.          6.          0.43237308]\n",
            " [ 8.          4.          0.49016943]\n",
            " [ 9.          3.          0.58694858]\n",
            " [10.          1.          0.61420159]\n",
            " [11.          2.          0.59259468]]\n"
          ],
          "name": "stdout"
        }
      ]
    },
    {
      "cell_type": "code",
      "metadata": {
        "id": "DziBESZfa-tF"
      },
      "source": [],
      "execution_count": null,
      "outputs": []
    }
  ]
}