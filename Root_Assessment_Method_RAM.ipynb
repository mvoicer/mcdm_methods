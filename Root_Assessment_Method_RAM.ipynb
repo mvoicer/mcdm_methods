{
  "nbformat": 4,
  "nbformat_minor": 0,
  "metadata": {
    "colab": {
      "provenance": [],
      "toc_visible": true
    },
    "kernelspec": {
      "name": "python3",
      "display_name": "Python 3"
    },
    "language_info": {
      "name": "python"
    }
  },
  "cells": [
    {
      "cell_type": "markdown",
      "source": [
        "# Root Assessment Method (RAM)\n",
        "\n",
        "RAM MCDM method proposed at https://doi.org/10.1016/j.jclepro.2023.138695"
      ],
      "metadata": {
        "id": "Ym9QzmAN4aXZ"
      }
    },
    {
      "cell_type": "code",
      "execution_count": 68,
      "metadata": {
        "id": "ALU2-qjlT-Nd"
      },
      "outputs": [],
      "source": [
        "import pandas as pd\n",
        "import numpy as np"
      ]
    },
    {
      "cell_type": "code",
      "source": [
        "weights = [.132, .135, .138, .162, .09, .223, .12]\n",
        "cb = ['max', 'min', 'min', 'max', 'max', 'max', 'max']"
      ],
      "metadata": {
        "id": "bSAU2ebFoqMH"
      },
      "execution_count": 69,
      "outputs": []
    },
    {
      "cell_type": "code",
      "source": [
        "# Matriz de decisão\n",
        "decision_matrix = pd.DataFrame({\n",
        "    'C1': [0.068, 0.078, 0.157, 0.106, 0.103, 0.105, 0.137, 0.1, 0.053, 0.094],\n",
        "    'C2': [0.066, 0.076, 0.114, 0.139, 0.187, 0.083, 0.127, 0.082, 0.052, 0.074],\n",
        "    'C3': [0.15, 0.108, 0.128, 0.058, 0.125, 0.15, 0.056, 0.086, 0.043, 0.097],\n",
        "    'C4': [0.098, 0.136, 0.083, 0.074, 0.176, 0.051, 0.133, 0.06, 0.1, 0.087],\n",
        "    'C5': [0.156, 0.082, 0.108, 0.132, 0.074, 0.134, 0.122, 0.062, 0.05, 0.08],\n",
        "    'C6': [0.114, 0.171, 0.113, 0.084, 0.064, 0.094, 0.119, 0.109, 0.078, 0.054],\n",
        "    'C7': [0.098, 0.105, 0.131, 0.12, 0.057, 0.113, 0.114, 0.093, 0.063, 0.106]\n",
        "}, index=['A1', 'A2', 'A3', 'A4', 'A5', 'A6', 'A7', 'A8', 'A9', 'A10'])\n",
        "\n",
        "print(decision_matrix)\n",
        "\n"
      ],
      "metadata": {
        "colab": {
          "base_uri": "https://localhost:8080/"
        },
        "id": "rfyJu7bhWM3b",
        "outputId": "f5ccb866-713e-4b7a-8450-263006f3e210"
      },
      "execution_count": 70,
      "outputs": [
        {
          "output_type": "stream",
          "name": "stdout",
          "text": [
            "        C1     C2     C3     C4     C5     C6     C7\n",
            "A1   0.068  0.066  0.150  0.098  0.156  0.114  0.098\n",
            "A2   0.078  0.076  0.108  0.136  0.082  0.171  0.105\n",
            "A3   0.157  0.114  0.128  0.083  0.108  0.113  0.131\n",
            "A4   0.106  0.139  0.058  0.074  0.132  0.084  0.120\n",
            "A5   0.103  0.187  0.125  0.176  0.074  0.064  0.057\n",
            "A6   0.105  0.083  0.150  0.051  0.134  0.094  0.113\n",
            "A7   0.137  0.127  0.056  0.133  0.122  0.119  0.114\n",
            "A8   0.100  0.082  0.086  0.060  0.062  0.109  0.093\n",
            "A9   0.053  0.052  0.043  0.100  0.050  0.078  0.063\n",
            "A10  0.094  0.074  0.097  0.087  0.080  0.054  0.106\n"
          ]
        }
      ]
    },
    {
      "cell_type": "code",
      "source": [
        "# Normalization\n",
        "normalized_matrix = decision_matrix.copy()\n",
        "for i in decision_matrix.columns:\n",
        "    normalized_matrix[i] = decision_matrix[i] / decision_matrix[i].sum()\n",
        "\n",
        "print(normalized_matrix)"
      ],
      "metadata": {
        "colab": {
          "base_uri": "https://localhost:8080/"
        },
        "id": "Iofg5_oyWlu2",
        "outputId": "0fb3fae2-f1a9-4900-95e6-af4f51ad5833"
      },
      "execution_count": 71,
      "outputs": [
        {
          "output_type": "stream",
          "name": "stdout",
          "text": [
            "           C1     C2        C3        C4     C5     C6     C7\n",
            "A1   0.067932  0.066  0.149850  0.098196  0.156  0.114  0.098\n",
            "A2   0.077922  0.076  0.107892  0.136273  0.082  0.171  0.105\n",
            "A3   0.156843  0.114  0.127872  0.083166  0.108  0.113  0.131\n",
            "A4   0.105894  0.139  0.057942  0.074148  0.132  0.084  0.120\n",
            "A5   0.102897  0.187  0.124875  0.176353  0.074  0.064  0.057\n",
            "A6   0.104895  0.083  0.149850  0.051102  0.134  0.094  0.113\n",
            "A7   0.136863  0.127  0.055944  0.133267  0.122  0.119  0.114\n",
            "A8   0.099900  0.082  0.085914  0.060120  0.062  0.109  0.093\n",
            "A9   0.052947  0.052  0.042957  0.100200  0.050  0.078  0.063\n",
            "A10  0.093906  0.074  0.096903  0.087174  0.080  0.054  0.106\n"
          ]
        }
      ]
    },
    {
      "cell_type": "code",
      "source": [
        "# Weighted normalized matrix\n",
        "weighted_normalized_matrix = normalized_matrix.copy()\n",
        "\n",
        "for i, j in enumerate(normalized_matrix.columns):\n",
        "    weighted_normalized_matrix[j] = normalized_matrix[j] * weights[i]\n",
        "\n",
        "print(weighted_normalized_matrix)"
      ],
      "metadata": {
        "colab": {
          "base_uri": "https://localhost:8080/"
        },
        "id": "dEhq3hEYW0ON",
        "outputId": "2e7182cb-51b7-4aa3-9ab9-7716fbbaf1a4"
      },
      "execution_count": 72,
      "outputs": [
        {
          "output_type": "stream",
          "name": "stdout",
          "text": [
            "           C1        C2        C3        C4       C5        C6       C7\n",
            "A1   0.008967  0.008910  0.020679  0.015908  0.01404  0.025422  0.01176\n",
            "A2   0.010286  0.010260  0.014889  0.022076  0.00738  0.038133  0.01260\n",
            "A3   0.020703  0.015390  0.017646  0.013473  0.00972  0.025199  0.01572\n",
            "A4   0.013978  0.018765  0.007996  0.012012  0.01188  0.018732  0.01440\n",
            "A5   0.013582  0.025245  0.017233  0.028569  0.00666  0.014272  0.00684\n",
            "A6   0.013846  0.011205  0.020679  0.008279  0.01206  0.020962  0.01356\n",
            "A7   0.018066  0.017145  0.007720  0.021589  0.01098  0.026537  0.01368\n",
            "A8   0.013187  0.011070  0.011856  0.009739  0.00558  0.024307  0.01116\n",
            "A9   0.006989  0.007020  0.005928  0.016232  0.00450  0.017394  0.00756\n",
            "A10  0.012396  0.009990  0.013373  0.014122  0.00720  0.012042  0.01272\n"
          ]
        }
      ]
    },
    {
      "cell_type": "code",
      "source": [
        "# Compute S+i e S-i\n",
        "cost_criteria = ['C2', 'C3']\n",
        "benefit_criteria = ['C1', 'C4', 'C5', 'C6', 'C7']\n",
        "\n",
        "# Calculando S+i e S-i\n",
        "S_plus = weighted_normalized_matrix[benefit_criteria].sum(axis=1)\n",
        "S_minus = weighted_normalized_matrix[cost_criteria].sum(axis=1)"
      ],
      "metadata": {
        "id": "h7_WxvxTonWy"
      },
      "execution_count": 73,
      "outputs": []
    },
    {
      "cell_type": "code",
      "source": [
        "# prompt: Cria um dataframe chamado RI_matrix com os valores de S_plus e S_minus\n",
        "\n",
        "RI_matrix = pd.DataFrame({'S_plus': S_plus, 'S_minus': S_minus})\n",
        "RI_matrix"
      ],
      "metadata": {
        "colab": {
          "base_uri": "https://localhost:8080/",
          "height": 363
        },
        "id": "_61xdJ0y3FKt",
        "outputId": "35dbf165-572b-40e9-fe3c-d74a00d67d83"
      },
      "execution_count": 74,
      "outputs": [
        {
          "output_type": "execute_result",
          "data": {
            "text/plain": [
              "       S_plus   S_minus\n",
              "A1   0.076097  0.029589\n",
              "A2   0.090475  0.025149\n",
              "A3   0.084815  0.033036\n",
              "A4   0.071002  0.026761\n",
              "A5   0.069924  0.042478\n",
              "A6   0.068707  0.031884\n",
              "A7   0.090852  0.024865\n",
              "A8   0.063973  0.022926\n",
              "A9   0.052675  0.012948\n",
              "A10  0.058480  0.023363"
            ],
            "text/html": [
              "\n",
              "  <div id=\"df-adab7429-5e5a-4ef9-a4f5-12c1e214840d\" class=\"colab-df-container\">\n",
              "    <div>\n",
              "<style scoped>\n",
              "    .dataframe tbody tr th:only-of-type {\n",
              "        vertical-align: middle;\n",
              "    }\n",
              "\n",
              "    .dataframe tbody tr th {\n",
              "        vertical-align: top;\n",
              "    }\n",
              "\n",
              "    .dataframe thead th {\n",
              "        text-align: right;\n",
              "    }\n",
              "</style>\n",
              "<table border=\"1\" class=\"dataframe\">\n",
              "  <thead>\n",
              "    <tr style=\"text-align: right;\">\n",
              "      <th></th>\n",
              "      <th>S_plus</th>\n",
              "      <th>S_minus</th>\n",
              "    </tr>\n",
              "  </thead>\n",
              "  <tbody>\n",
              "    <tr>\n",
              "      <th>A1</th>\n",
              "      <td>0.076097</td>\n",
              "      <td>0.029589</td>\n",
              "    </tr>\n",
              "    <tr>\n",
              "      <th>A2</th>\n",
              "      <td>0.090475</td>\n",
              "      <td>0.025149</td>\n",
              "    </tr>\n",
              "    <tr>\n",
              "      <th>A3</th>\n",
              "      <td>0.084815</td>\n",
              "      <td>0.033036</td>\n",
              "    </tr>\n",
              "    <tr>\n",
              "      <th>A4</th>\n",
              "      <td>0.071002</td>\n",
              "      <td>0.026761</td>\n",
              "    </tr>\n",
              "    <tr>\n",
              "      <th>A5</th>\n",
              "      <td>0.069924</td>\n",
              "      <td>0.042478</td>\n",
              "    </tr>\n",
              "    <tr>\n",
              "      <th>A6</th>\n",
              "      <td>0.068707</td>\n",
              "      <td>0.031884</td>\n",
              "    </tr>\n",
              "    <tr>\n",
              "      <th>A7</th>\n",
              "      <td>0.090852</td>\n",
              "      <td>0.024865</td>\n",
              "    </tr>\n",
              "    <tr>\n",
              "      <th>A8</th>\n",
              "      <td>0.063973</td>\n",
              "      <td>0.022926</td>\n",
              "    </tr>\n",
              "    <tr>\n",
              "      <th>A9</th>\n",
              "      <td>0.052675</td>\n",
              "      <td>0.012948</td>\n",
              "    </tr>\n",
              "    <tr>\n",
              "      <th>A10</th>\n",
              "      <td>0.058480</td>\n",
              "      <td>0.023363</td>\n",
              "    </tr>\n",
              "  </tbody>\n",
              "</table>\n",
              "</div>\n",
              "    <div class=\"colab-df-buttons\">\n",
              "\n",
              "  <div class=\"colab-df-container\">\n",
              "    <button class=\"colab-df-convert\" onclick=\"convertToInteractive('df-adab7429-5e5a-4ef9-a4f5-12c1e214840d')\"\n",
              "            title=\"Convert this dataframe to an interactive table.\"\n",
              "            style=\"display:none;\">\n",
              "\n",
              "  <svg xmlns=\"http://www.w3.org/2000/svg\" height=\"24px\" viewBox=\"0 -960 960 960\">\n",
              "    <path d=\"M120-120v-720h720v720H120Zm60-500h600v-160H180v160Zm220 220h160v-160H400v160Zm0 220h160v-160H400v160ZM180-400h160v-160H180v160Zm440 0h160v-160H620v160ZM180-180h160v-160H180v160Zm440 0h160v-160H620v160Z\"/>\n",
              "  </svg>\n",
              "    </button>\n",
              "\n",
              "  <style>\n",
              "    .colab-df-container {\n",
              "      display:flex;\n",
              "      gap: 12px;\n",
              "    }\n",
              "\n",
              "    .colab-df-convert {\n",
              "      background-color: #E8F0FE;\n",
              "      border: none;\n",
              "      border-radius: 50%;\n",
              "      cursor: pointer;\n",
              "      display: none;\n",
              "      fill: #1967D2;\n",
              "      height: 32px;\n",
              "      padding: 0 0 0 0;\n",
              "      width: 32px;\n",
              "    }\n",
              "\n",
              "    .colab-df-convert:hover {\n",
              "      background-color: #E2EBFA;\n",
              "      box-shadow: 0px 1px 2px rgba(60, 64, 67, 0.3), 0px 1px 3px 1px rgba(60, 64, 67, 0.15);\n",
              "      fill: #174EA6;\n",
              "    }\n",
              "\n",
              "    .colab-df-buttons div {\n",
              "      margin-bottom: 4px;\n",
              "    }\n",
              "\n",
              "    [theme=dark] .colab-df-convert {\n",
              "      background-color: #3B4455;\n",
              "      fill: #D2E3FC;\n",
              "    }\n",
              "\n",
              "    [theme=dark] .colab-df-convert:hover {\n",
              "      background-color: #434B5C;\n",
              "      box-shadow: 0px 1px 3px 1px rgba(0, 0, 0, 0.15);\n",
              "      filter: drop-shadow(0px 1px 2px rgba(0, 0, 0, 0.3));\n",
              "      fill: #FFFFFF;\n",
              "    }\n",
              "  </style>\n",
              "\n",
              "    <script>\n",
              "      const buttonEl =\n",
              "        document.querySelector('#df-adab7429-5e5a-4ef9-a4f5-12c1e214840d button.colab-df-convert');\n",
              "      buttonEl.style.display =\n",
              "        google.colab.kernel.accessAllowed ? 'block' : 'none';\n",
              "\n",
              "      async function convertToInteractive(key) {\n",
              "        const element = document.querySelector('#df-adab7429-5e5a-4ef9-a4f5-12c1e214840d');\n",
              "        const dataTable =\n",
              "          await google.colab.kernel.invokeFunction('convertToInteractive',\n",
              "                                                    [key], {});\n",
              "        if (!dataTable) return;\n",
              "\n",
              "        const docLinkHtml = 'Like what you see? Visit the ' +\n",
              "          '<a target=\"_blank\" href=https://colab.research.google.com/notebooks/data_table.ipynb>data table notebook</a>'\n",
              "          + ' to learn more about interactive tables.';\n",
              "        element.innerHTML = '';\n",
              "        dataTable['output_type'] = 'display_data';\n",
              "        await google.colab.output.renderOutput(dataTable, element);\n",
              "        const docLink = document.createElement('div');\n",
              "        docLink.innerHTML = docLinkHtml;\n",
              "        element.appendChild(docLink);\n",
              "      }\n",
              "    </script>\n",
              "  </div>\n",
              "\n",
              "\n",
              "<div id=\"df-0200f173-ee67-41c3-84b5-bef5304e1f2a\">\n",
              "  <button class=\"colab-df-quickchart\" onclick=\"quickchart('df-0200f173-ee67-41c3-84b5-bef5304e1f2a')\"\n",
              "            title=\"Suggest charts\"\n",
              "            style=\"display:none;\">\n",
              "\n",
              "<svg xmlns=\"http://www.w3.org/2000/svg\" height=\"24px\"viewBox=\"0 0 24 24\"\n",
              "     width=\"24px\">\n",
              "    <g>\n",
              "        <path d=\"M19 3H5c-1.1 0-2 .9-2 2v14c0 1.1.9 2 2 2h14c1.1 0 2-.9 2-2V5c0-1.1-.9-2-2-2zM9 17H7v-7h2v7zm4 0h-2V7h2v10zm4 0h-2v-4h2v4z\"/>\n",
              "    </g>\n",
              "</svg>\n",
              "  </button>\n",
              "\n",
              "<style>\n",
              "  .colab-df-quickchart {\n",
              "      --bg-color: #E8F0FE;\n",
              "      --fill-color: #1967D2;\n",
              "      --hover-bg-color: #E2EBFA;\n",
              "      --hover-fill-color: #174EA6;\n",
              "      --disabled-fill-color: #AAA;\n",
              "      --disabled-bg-color: #DDD;\n",
              "  }\n",
              "\n",
              "  [theme=dark] .colab-df-quickchart {\n",
              "      --bg-color: #3B4455;\n",
              "      --fill-color: #D2E3FC;\n",
              "      --hover-bg-color: #434B5C;\n",
              "      --hover-fill-color: #FFFFFF;\n",
              "      --disabled-bg-color: #3B4455;\n",
              "      --disabled-fill-color: #666;\n",
              "  }\n",
              "\n",
              "  .colab-df-quickchart {\n",
              "    background-color: var(--bg-color);\n",
              "    border: none;\n",
              "    border-radius: 50%;\n",
              "    cursor: pointer;\n",
              "    display: none;\n",
              "    fill: var(--fill-color);\n",
              "    height: 32px;\n",
              "    padding: 0;\n",
              "    width: 32px;\n",
              "  }\n",
              "\n",
              "  .colab-df-quickchart:hover {\n",
              "    background-color: var(--hover-bg-color);\n",
              "    box-shadow: 0 1px 2px rgba(60, 64, 67, 0.3), 0 1px 3px 1px rgba(60, 64, 67, 0.15);\n",
              "    fill: var(--button-hover-fill-color);\n",
              "  }\n",
              "\n",
              "  .colab-df-quickchart-complete:disabled,\n",
              "  .colab-df-quickchart-complete:disabled:hover {\n",
              "    background-color: var(--disabled-bg-color);\n",
              "    fill: var(--disabled-fill-color);\n",
              "    box-shadow: none;\n",
              "  }\n",
              "\n",
              "  .colab-df-spinner {\n",
              "    border: 2px solid var(--fill-color);\n",
              "    border-color: transparent;\n",
              "    border-bottom-color: var(--fill-color);\n",
              "    animation:\n",
              "      spin 1s steps(1) infinite;\n",
              "  }\n",
              "\n",
              "  @keyframes spin {\n",
              "    0% {\n",
              "      border-color: transparent;\n",
              "      border-bottom-color: var(--fill-color);\n",
              "      border-left-color: var(--fill-color);\n",
              "    }\n",
              "    20% {\n",
              "      border-color: transparent;\n",
              "      border-left-color: var(--fill-color);\n",
              "      border-top-color: var(--fill-color);\n",
              "    }\n",
              "    30% {\n",
              "      border-color: transparent;\n",
              "      border-left-color: var(--fill-color);\n",
              "      border-top-color: var(--fill-color);\n",
              "      border-right-color: var(--fill-color);\n",
              "    }\n",
              "    40% {\n",
              "      border-color: transparent;\n",
              "      border-right-color: var(--fill-color);\n",
              "      border-top-color: var(--fill-color);\n",
              "    }\n",
              "    60% {\n",
              "      border-color: transparent;\n",
              "      border-right-color: var(--fill-color);\n",
              "    }\n",
              "    80% {\n",
              "      border-color: transparent;\n",
              "      border-right-color: var(--fill-color);\n",
              "      border-bottom-color: var(--fill-color);\n",
              "    }\n",
              "    90% {\n",
              "      border-color: transparent;\n",
              "      border-bottom-color: var(--fill-color);\n",
              "    }\n",
              "  }\n",
              "</style>\n",
              "\n",
              "  <script>\n",
              "    async function quickchart(key) {\n",
              "      const quickchartButtonEl =\n",
              "        document.querySelector('#' + key + ' button');\n",
              "      quickchartButtonEl.disabled = true;  // To prevent multiple clicks.\n",
              "      quickchartButtonEl.classList.add('colab-df-spinner');\n",
              "      try {\n",
              "        const charts = await google.colab.kernel.invokeFunction(\n",
              "            'suggestCharts', [key], {});\n",
              "      } catch (error) {\n",
              "        console.error('Error during call to suggestCharts:', error);\n",
              "      }\n",
              "      quickchartButtonEl.classList.remove('colab-df-spinner');\n",
              "      quickchartButtonEl.classList.add('colab-df-quickchart-complete');\n",
              "    }\n",
              "    (() => {\n",
              "      let quickchartButtonEl =\n",
              "        document.querySelector('#df-0200f173-ee67-41c3-84b5-bef5304e1f2a button');\n",
              "      quickchartButtonEl.style.display =\n",
              "        google.colab.kernel.accessAllowed ? 'block' : 'none';\n",
              "    })();\n",
              "  </script>\n",
              "</div>\n",
              "\n",
              "  <div id=\"id_a5ccdd6b-899b-4ff9-a8a6-6b6e3c96a12c\">\n",
              "    <style>\n",
              "      .colab-df-generate {\n",
              "        background-color: #E8F0FE;\n",
              "        border: none;\n",
              "        border-radius: 50%;\n",
              "        cursor: pointer;\n",
              "        display: none;\n",
              "        fill: #1967D2;\n",
              "        height: 32px;\n",
              "        padding: 0 0 0 0;\n",
              "        width: 32px;\n",
              "      }\n",
              "\n",
              "      .colab-df-generate:hover {\n",
              "        background-color: #E2EBFA;\n",
              "        box-shadow: 0px 1px 2px rgba(60, 64, 67, 0.3), 0px 1px 3px 1px rgba(60, 64, 67, 0.15);\n",
              "        fill: #174EA6;\n",
              "      }\n",
              "\n",
              "      [theme=dark] .colab-df-generate {\n",
              "        background-color: #3B4455;\n",
              "        fill: #D2E3FC;\n",
              "      }\n",
              "\n",
              "      [theme=dark] .colab-df-generate:hover {\n",
              "        background-color: #434B5C;\n",
              "        box-shadow: 0px 1px 3px 1px rgba(0, 0, 0, 0.15);\n",
              "        filter: drop-shadow(0px 1px 2px rgba(0, 0, 0, 0.3));\n",
              "        fill: #FFFFFF;\n",
              "      }\n",
              "    </style>\n",
              "    <button class=\"colab-df-generate\" onclick=\"generateWithVariable('RI_matrix')\"\n",
              "            title=\"Generate code using this dataframe.\"\n",
              "            style=\"display:none;\">\n",
              "\n",
              "  <svg xmlns=\"http://www.w3.org/2000/svg\" height=\"24px\"viewBox=\"0 0 24 24\"\n",
              "       width=\"24px\">\n",
              "    <path d=\"M7,19H8.4L18.45,9,17,7.55,7,17.6ZM5,21V16.75L18.45,3.32a2,2,0,0,1,2.83,0l1.4,1.43a1.91,1.91,0,0,1,.58,1.4,1.91,1.91,0,0,1-.58,1.4L9.25,21ZM18.45,9,17,7.55Zm-12,3A5.31,5.31,0,0,0,4.9,8.1,5.31,5.31,0,0,0,1,6.5,5.31,5.31,0,0,0,4.9,4.9,5.31,5.31,0,0,0,6.5,1,5.31,5.31,0,0,0,8.1,4.9,5.31,5.31,0,0,0,12,6.5,5.46,5.46,0,0,0,6.5,12Z\"/>\n",
              "  </svg>\n",
              "    </button>\n",
              "    <script>\n",
              "      (() => {\n",
              "      const buttonEl =\n",
              "        document.querySelector('#id_a5ccdd6b-899b-4ff9-a8a6-6b6e3c96a12c button.colab-df-generate');\n",
              "      buttonEl.style.display =\n",
              "        google.colab.kernel.accessAllowed ? 'block' : 'none';\n",
              "\n",
              "      buttonEl.onclick = () => {\n",
              "        google.colab.notebook.generateWithVariable('RI_matrix');\n",
              "      }\n",
              "      })();\n",
              "    </script>\n",
              "  </div>\n",
              "\n",
              "    </div>\n",
              "  </div>\n"
            ],
            "application/vnd.google.colaboratory.intrinsic+json": {
              "type": "dataframe",
              "variable_name": "RI_matrix",
              "summary": "{\n  \"name\": \"RI_matrix\",\n  \"rows\": 10,\n  \"fields\": [\n    {\n      \"column\": \"S_plus\",\n      \"properties\": {\n        \"dtype\": \"number\",\n        \"std\": 0.012951407005407723,\n        \"min\": 0.052675475918870715,\n        \"max\": 0.09085211242264749,\n        \"num_unique_values\": 10,\n        \"samples\": [\n          0.052675475918870715,\n          0.0904748665903235,\n          0.0687067109603823\n        ],\n        \"semantic_type\": \"\",\n        \"description\": \"\"\n      }\n    },\n    {\n      \"column\": \"S_minus\",\n      \"properties\": {\n        \"dtype\": \"number\",\n        \"std\": 0.007753016762293132,\n        \"min\": 0.012948071928071925,\n        \"max\": 0.04247776723276723,\n        \"num_unique_values\": 10,\n        \"samples\": [\n          0.012948071928071925,\n          0.025149110889110884,\n          0.03188432067932068\n        ],\n        \"semantic_type\": \"\",\n        \"description\": \"\"\n      }\n    }\n  ]\n}"
            }
          },
          "metadata": {},
          "execution_count": 74
        }
      ]
    },
    {
      "cell_type": "code",
      "source": [
        "# Aggregation stage\n",
        "RI_matrix['Aggregation'] = (2 + S_plus) ** (1 / (2 + S_minus))\n",
        "\n",
        "print(RI_matrix)"
      ],
      "metadata": {
        "colab": {
          "base_uri": "https://localhost:8080/"
        },
        "id": "30hiTpJxr-np",
        "outputId": "90382777-47f9-4f98-8501-31b49f51f5d9"
      },
      "execution_count": 75,
      "outputs": [
        {
          "output_type": "stream",
          "name": "stdout",
          "text": [
            "       S_plus   S_minus  Aggregation\n",
            "A1   0.076097  0.029589     1.433215\n",
            "A2   0.090475  0.025149     1.439243\n",
            "A3   0.084815  0.033036     1.435296\n",
            "A4   0.071002  0.026761     1.432197\n",
            "A5   0.069924  0.042478     1.427880\n",
            "A6   0.068707  0.031884     1.430120\n",
            "A7   0.090852  0.024865     1.439444\n",
            "A8   0.063973  0.022926     1.430766\n",
            "A9   0.052675  0.012948     1.429406\n",
            "A10  0.058480  0.023363     1.428773\n"
          ]
        }
      ]
    },
    {
      "cell_type": "code",
      "source": [
        "# Normalization results of RI\n",
        "RI_matrix['Normalization_RI'] = (RI_matrix['Aggregation'] - RI_matrix['Aggregation'].min()) / (RI_matrix['Aggregation'].max() - RI_matrix['Aggregation'].min())\n",
        "\n",
        "print(RI_matrix)"
      ],
      "metadata": {
        "colab": {
          "base_uri": "https://localhost:8080/"
        },
        "id": "HW9V5eBM3dqY",
        "outputId": "8f1864fe-e1f4-4515-bf88-e95ec36c51ac"
      },
      "execution_count": 79,
      "outputs": [
        {
          "output_type": "stream",
          "name": "stdout",
          "text": [
            "       S_plus   S_minus  Aggregation  Normalization_RI\n",
            "A1   0.076097  0.029589     1.433215          0.461305\n",
            "A2   0.090475  0.025149     1.439243          0.982556\n",
            "A3   0.084815  0.033036     1.435296          0.641264\n",
            "A4   0.071002  0.026761     1.432197          0.373340\n",
            "A5   0.069924  0.042478     1.427880          0.000000\n",
            "A6   0.068707  0.031884     1.430120          0.193709\n",
            "A7   0.090852  0.024865     1.439444          1.000000\n",
            "A8   0.063973  0.022926     1.430766          0.249605\n",
            "A9   0.052675  0.012948     1.429406          0.131984\n",
            "A10  0.058480  0.023363     1.428773          0.077202\n"
          ]
        }
      ]
    },
    {
      "cell_type": "code",
      "source": [
        "# Rank the alternatives based on aggregation_matrix\n",
        "RI_matrix['Rank'] = RI_matrix['Aggregation'].rank(ascending=False)\n",
        "\n",
        "print(RI_matrix)"
      ],
      "metadata": {
        "colab": {
          "base_uri": "https://localhost:8080/"
        },
        "id": "1iJgN7Dgvcb6",
        "outputId": "3c240946-654e-4891-fee4-94622cedc606"
      },
      "execution_count": 81,
      "outputs": [
        {
          "output_type": "stream",
          "name": "stdout",
          "text": [
            "       S_plus   S_minus  Aggregation  Normalization_RI  Rank\n",
            "A1   0.076097  0.029589     1.433215          0.461305   4.0\n",
            "A2   0.090475  0.025149     1.439243          0.982556   2.0\n",
            "A3   0.084815  0.033036     1.435296          0.641264   3.0\n",
            "A4   0.071002  0.026761     1.432197          0.373340   5.0\n",
            "A5   0.069924  0.042478     1.427880          0.000000  10.0\n",
            "A6   0.068707  0.031884     1.430120          0.193709   7.0\n",
            "A7   0.090852  0.024865     1.439444          1.000000   1.0\n",
            "A8   0.063973  0.022926     1.430766          0.249605   6.0\n",
            "A9   0.052675  0.012948     1.429406          0.131984   8.0\n",
            "A10  0.058480  0.023363     1.428773          0.077202   9.0\n"
          ]
        }
      ]
    },
    {
      "cell_type": "code",
      "source": [],
      "metadata": {
        "id": "JvKk1tf6wqJw"
      },
      "execution_count": null,
      "outputs": []
    }
  ]
}