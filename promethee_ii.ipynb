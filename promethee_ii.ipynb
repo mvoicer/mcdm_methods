{
  "nbformat": 4,
  "nbformat_minor": 0,
  "metadata": {
    "colab": {
      "provenance": []
    },
    "kernelspec": {
      "name": "python3",
      "display_name": "Python 3"
    },
    "language_info": {
      "name": "python"
    }
  },
  "cells": [
    {
      "cell_type": "code",
      "metadata": {
        "id": "JpuzdXGCqdN9"
      },
      "source": [
        "import pandas as pd\n",
        "import numpy as np"
      ],
      "execution_count": null,
      "outputs": []
    },
    {
      "cell_type": "code",
      "metadata": {
        "id": "-taLZYZW8eo-"
      },
      "source": [
        "class Normalization:\n",
        "    def __init__(self, matrix, cb, weights):\n",
        "        if matrix.shape[1] != len(weights) or matrix.shape[1] != len(cb) or len(cb) != len(weights):\n",
        "            raise ValueError(f'Data shape, cost-benefit vector or weights vector does not match')\n",
        "        self.matrix = matrix\n",
        "        self.cb = cb\n",
        "        self.weights = weights\n",
        "\n",
        "    def normalization_zero_one(self):\n",
        "        result = self.matrix.copy()\n",
        "        pos = 0\n",
        "        for col in self.matrix.columns:\n",
        "            max_value = self.matrix[col].max()\n",
        "            min_value = self.matrix[col].min()\n",
        "            dif_max_min = self.matrix[col].max() - df[col].min()\n",
        "            if self.cb[pos] == 'benefit':\n",
        "                result[col] = (self.matrix[col] - min_value) / dif_max_min\n",
        "            else:\n",
        "                result[col] = (max_value - self.matrix[col]) / dif_max_min\n",
        "            pos+=1\n",
        "        return result.round(4)"
      ],
      "execution_count": null,
      "outputs": []
    },
    {
      "cell_type": "code",
      "metadata": {
        "id": "xMh_VVl7KNWd"
      },
      "source": [
        "def promethee_ii(df, weights, cb):\n",
        "    nrow = df.shape[0]\n",
        "    ncol = df.shape[1]\n",
        "    # Normalization\n",
        "    ndm = Normalization(df, cb, weights).normalization_zero_one()\n",
        "    # Pairwise comparisons\n",
        "    pc_matrix = pd.DataFrame(np.zeros((nrow**2, ncol)))\n",
        "    aux=0\n",
        "    for r in range(ndm.shape[0]):\n",
        "        for s in range(ndm.shape[0]):\n",
        "            pc_matrix.iloc[aux][:] = ndm.iloc[r, :] - ndm.iloc[s, :]\n",
        "            aux+=1\n",
        "\n",
        "    # Calculate the preference function\n",
        "    pref_func_matrix = pc_matrix.copy()\n",
        "    pref_func_matrix[pref_func_matrix < 0] = 0\n",
        "\n",
        "    # Calculate the aggregated preference function\n",
        "    agg_pref_func_matrix = (pref_func_matrix * weights).apply(sum, axis=1)\n",
        "    agg_pref_func_matrix = pd.DataFrame(agg_pref_func_matrix.values.reshape(nrow, nrow))\n",
        "\n",
        "    # Determine the leaving and entering outranking flows\n",
        "    outranking_flows = pd.DataFrame(np.zeros((nrow, 2)), columns=['Leaving','Entering'])\n",
        "    outranking_flows['Leaving'] = agg_pref_func_matrix.apply(sum, axis=1)/(ncol-1)\n",
        "    outranking_flows['Entering'] =  agg_pref_func_matrix.apply(sum, axis=0)/(ncol-1)\n",
        "    outranking_flows['Leav_Enter'] = outranking_flows['Leaving'] - outranking_flows['Entering']\n",
        "\n",
        "    # Determine the ranking\n",
        "    outranking_flows['Rank'] = outranking_flows['Leav_Enter'].rank(ascending=False).astype(int)\n",
        "\n",
        "    return pc_matrix, outranking_flows['Rank'].to_list()"
      ],
      "execution_count": null,
      "outputs": []
    },
    {
      "cell_type": "code",
      "metadata": {
        "id": "uGLwfdHFBKDO"
      },
      "source": [
        "df = pd.DataFrame({'Price': [250, 200, 300, 275],\n",
        "                   'Storage': [16, 16, 32, 32],\n",
        "                   'Camera': [12, 8, 16, 8],\n",
        "                   'Looks': [5, 3, 4, 2]})"
      ],
      "execution_count": null,
      "outputs": []
    },
    {
      "cell_type": "code",
      "metadata": {
        "id": "zs4pjBXsfM2N"
      },
      "source": [
        "weights = [.35, .25, .25, .15]\n",
        "cb = ['cost', 'benefit', 'benefit', 'benefit']"
      ],
      "execution_count": null,
      "outputs": []
    },
    {
      "cell_type": "code",
      "metadata": {
        "id": "Mr_Wcfo8KSa7"
      },
      "source": [
        "pc_matrix, rank = promethee_ii(df, weights,cb)"
      ],
      "execution_count": null,
      "outputs": []
    },
    {
      "cell_type": "code",
      "metadata": {
        "colab": {
          "base_uri": "https://localhost:8080/"
        },
        "id": "5tT8edMQcIfN",
        "outputId": "cab27a16-4fbe-4b74-e92b-21daa3a27b73"
      },
      "source": [
        "print(pc_matrix)"
      ],
      "execution_count": null,
      "outputs": [
        {
          "output_type": "stream",
          "name": "stdout",
          "text": [
            "       0    1    2       3\n",
            "0   0.00  0.0  0.0  0.0000\n",
            "1  -0.50  0.0  0.5  0.6667\n",
            "2   0.50 -1.0 -0.5  0.3333\n",
            "3   0.25 -1.0  0.5  1.0000\n",
            "4   0.50  0.0 -0.5 -0.6667\n",
            "5   0.00  0.0  0.0  0.0000\n",
            "6   1.00 -1.0 -1.0 -0.3334\n",
            "7   0.75 -1.0  0.0  0.3333\n",
            "8  -0.50  1.0  0.5 -0.3333\n",
            "9  -1.00  1.0  1.0  0.3334\n",
            "10  0.00  0.0  0.0  0.0000\n",
            "11 -0.25  0.0  1.0  0.6667\n",
            "12 -0.25  1.0 -0.5 -1.0000\n",
            "13 -0.75  1.0  0.0 -0.3333\n",
            "14  0.25  0.0 -1.0 -0.6667\n",
            "15  0.00  0.0  0.0  0.0000\n"
          ]
        }
      ]
    },
    {
      "cell_type": "code",
      "metadata": {
        "colab": {
          "base_uri": "https://localhost:8080/"
        },
        "id": "uC7hsRAjcKCu",
        "outputId": "2d8f2696-8466-4bca-ddbc-bd646d5fea0d"
      },
      "source": [
        "print(rank)"
      ],
      "execution_count": null,
      "outputs": [
        {
          "output_type": "stream",
          "name": "stdout",
          "text": [
            "[2, 3, 1, 4]\n"
          ]
        }
      ]
    }
  ]
}